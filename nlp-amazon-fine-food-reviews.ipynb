{
 "cells": [
  {
   "cell_type": "code",
   "execution_count": 1,
   "id": "236c6138",
   "metadata": {
    "_cell_guid": "b1076dfc-b9ad-4769-8c92-a6c4dae69d19",
    "_uuid": "8f2839f25d086af736a60e9eeb907d3b93b6e0e5",
    "execution": {
     "iopub.execute_input": "2023-08-02T04:55:59.063255Z",
     "iopub.status.busy": "2023-08-02T04:55:59.062623Z",
     "iopub.status.idle": "2023-08-02T04:55:59.088580Z",
     "shell.execute_reply": "2023-08-02T04:55:59.087034Z"
    },
    "papermill": {
     "duration": 0.041576,
     "end_time": "2023-08-02T04:55:59.092241",
     "exception": false,
     "start_time": "2023-08-02T04:55:59.050665",
     "status": "completed"
    },
    "tags": []
   },
   "outputs": [
    {
     "name": "stdout",
     "output_type": "stream",
     "text": [
      "/kaggle/input/amazon-fine-food-reviews/hashes.txt\n",
      "/kaggle/input/amazon-fine-food-reviews/Reviews.csv\n",
      "/kaggle/input/amazon-fine-food-reviews/database.sqlite\n"
     ]
    }
   ],
   "source": [
    "# This Python 3 environment comes with many helpful analytics libraries installed\n",
    "# It is defined by the kaggle/python Docker image: https://github.com/kaggle/docker-python\n",
    "# For example, here's several helpful packages to load\n",
    "\n",
    "import numpy as np # linear algebra\n",
    "import pandas as pd # data processing, CSV file I/O (e.g. pd.read_csv)\n",
    "\n",
    "# Input data files are available in the read-only \"../input/\" directory\n",
    "# For example, running this (by clicking run or pressing Shift+Enter) will list all files under the input directory\n",
    "\n",
    "import os\n",
    "for dirname, _, filenames in os.walk('/kaggle/input'):\n",
    "    for filename in filenames:\n",
    "        print(os.path.join(dirname, filename))\n",
    "\n",
    "# You can write up to 20GB to the current directory (/kaggle/working/) that gets preserved as output when you create a version using \"Save & Run All\" \n",
    "# You can also write temporary files to /kaggle/temp/, but they won't be saved outside of the current session"
   ]
  },
  {
   "cell_type": "code",
   "execution_count": 2,
   "id": "ad207705",
   "metadata": {
    "execution": {
     "iopub.execute_input": "2023-08-02T04:55:59.113200Z",
     "iopub.status.busy": "2023-08-02T04:55:59.112365Z",
     "iopub.status.idle": "2023-08-02T04:56:08.054232Z",
     "shell.execute_reply": "2023-08-02T04:56:08.052624Z"
    },
    "papermill": {
     "duration": 8.955816,
     "end_time": "2023-08-02T04:56:08.057232",
     "exception": false,
     "start_time": "2023-08-02T04:55:59.101416",
     "status": "completed"
    },
    "tags": []
   },
   "outputs": [
    {
     "data": {
      "text/html": [
       "<div>\n",
       "<style scoped>\n",
       "    .dataframe tbody tr th:only-of-type {\n",
       "        vertical-align: middle;\n",
       "    }\n",
       "\n",
       "    .dataframe tbody tr th {\n",
       "        vertical-align: top;\n",
       "    }\n",
       "\n",
       "    .dataframe thead th {\n",
       "        text-align: right;\n",
       "    }\n",
       "</style>\n",
       "<table border=\"1\" class=\"dataframe\">\n",
       "  <thead>\n",
       "    <tr style=\"text-align: right;\">\n",
       "      <th></th>\n",
       "      <th>Id</th>\n",
       "      <th>ProductId</th>\n",
       "      <th>UserId</th>\n",
       "      <th>ProfileName</th>\n",
       "      <th>HelpfulnessNumerator</th>\n",
       "      <th>HelpfulnessDenominator</th>\n",
       "      <th>Score</th>\n",
       "      <th>Time</th>\n",
       "      <th>Summary</th>\n",
       "      <th>Text</th>\n",
       "    </tr>\n",
       "  </thead>\n",
       "  <tbody>\n",
       "    <tr>\n",
       "      <th>0</th>\n",
       "      <td>1</td>\n",
       "      <td>B001E4KFG0</td>\n",
       "      <td>A3SGXH7AUHU8GW</td>\n",
       "      <td>delmartian</td>\n",
       "      <td>1</td>\n",
       "      <td>1</td>\n",
       "      <td>5</td>\n",
       "      <td>1303862400</td>\n",
       "      <td>Good Quality Dog Food</td>\n",
       "      <td>I have bought several of the Vitality canned d...</td>\n",
       "    </tr>\n",
       "    <tr>\n",
       "      <th>1</th>\n",
       "      <td>2</td>\n",
       "      <td>B00813GRG4</td>\n",
       "      <td>A1D87F6ZCVE5NK</td>\n",
       "      <td>dll pa</td>\n",
       "      <td>0</td>\n",
       "      <td>0</td>\n",
       "      <td>1</td>\n",
       "      <td>1346976000</td>\n",
       "      <td>Not as Advertised</td>\n",
       "      <td>Product arrived labeled as Jumbo Salted Peanut...</td>\n",
       "    </tr>\n",
       "    <tr>\n",
       "      <th>2</th>\n",
       "      <td>3</td>\n",
       "      <td>B000LQOCH0</td>\n",
       "      <td>ABXLMWJIXXAIN</td>\n",
       "      <td>Natalia Corres \"Natalia Corres\"</td>\n",
       "      <td>1</td>\n",
       "      <td>1</td>\n",
       "      <td>4</td>\n",
       "      <td>1219017600</td>\n",
       "      <td>\"Delight\" says it all</td>\n",
       "      <td>This is a confection that has been around a fe...</td>\n",
       "    </tr>\n",
       "  </tbody>\n",
       "</table>\n",
       "</div>"
      ],
      "text/plain": [
       "   Id   ProductId          UserId                      ProfileName  \\\n",
       "0   1  B001E4KFG0  A3SGXH7AUHU8GW                       delmartian   \n",
       "1   2  B00813GRG4  A1D87F6ZCVE5NK                           dll pa   \n",
       "2   3  B000LQOCH0   ABXLMWJIXXAIN  Natalia Corres \"Natalia Corres\"   \n",
       "\n",
       "   HelpfulnessNumerator  HelpfulnessDenominator  Score        Time  \\\n",
       "0                     1                       1      5  1303862400   \n",
       "1                     0                       0      1  1346976000   \n",
       "2                     1                       1      4  1219017600   \n",
       "\n",
       "                 Summary                                               Text  \n",
       "0  Good Quality Dog Food  I have bought several of the Vitality canned d...  \n",
       "1      Not as Advertised  Product arrived labeled as Jumbo Salted Peanut...  \n",
       "2  \"Delight\" says it all  This is a confection that has been around a fe...  "
      ]
     },
     "execution_count": 2,
     "metadata": {},
     "output_type": "execute_result"
    }
   ],
   "source": [
    "df = pd.read_csv(\"/kaggle/input/amazon-fine-food-reviews/Reviews.csv\")\n",
    "df.head(3)"
   ]
  },
  {
   "cell_type": "code",
   "execution_count": 3,
   "id": "eb134f0b",
   "metadata": {
    "execution": {
     "iopub.execute_input": "2023-08-02T04:56:08.077162Z",
     "iopub.status.busy": "2023-08-02T04:56:08.076679Z",
     "iopub.status.idle": "2023-08-02T04:56:08.085394Z",
     "shell.execute_reply": "2023-08-02T04:56:08.083995Z"
    },
    "papermill": {
     "duration": 0.021808,
     "end_time": "2023-08-02T04:56:08.088024",
     "exception": false,
     "start_time": "2023-08-02T04:56:08.066216",
     "status": "completed"
    },
    "tags": []
   },
   "outputs": [
    {
     "data": {
      "text/plain": [
       "(568454, 10)"
      ]
     },
     "execution_count": 3,
     "metadata": {},
     "output_type": "execute_result"
    }
   ],
   "source": [
    "df.shape"
   ]
  },
  {
   "cell_type": "code",
   "execution_count": 4,
   "id": "65e221fa",
   "metadata": {
    "execution": {
     "iopub.execute_input": "2023-08-02T04:56:08.108124Z",
     "iopub.status.busy": "2023-08-02T04:56:08.107653Z",
     "iopub.status.idle": "2023-08-02T04:56:08.116579Z",
     "shell.execute_reply": "2023-08-02T04:56:08.115149Z"
    },
    "papermill": {
     "duration": 0.02234,
     "end_time": "2023-08-02T04:56:08.119439",
     "exception": false,
     "start_time": "2023-08-02T04:56:08.097099",
     "status": "completed"
    },
    "tags": []
   },
   "outputs": [
    {
     "data": {
      "text/plain": [
       "Index(['Id', 'ProductId', 'UserId', 'ProfileName', 'HelpfulnessNumerator',\n",
       "       'HelpfulnessDenominator', 'Score', 'Time', 'Summary', 'Text'],\n",
       "      dtype='object')"
      ]
     },
     "execution_count": 4,
     "metadata": {},
     "output_type": "execute_result"
    }
   ],
   "source": [
    "df.columns"
   ]
  },
  {
   "cell_type": "markdown",
   "id": "2a5c267a",
   "metadata": {
    "papermill": {
     "duration": 0.009388,
     "end_time": "2023-08-02T04:56:08.138510",
     "exception": false,
     "start_time": "2023-08-02T04:56:08.129122",
     "status": "completed"
    },
    "tags": []
   },
   "source": [
    "Objective </br>\n",
    "Given a review, determine whether the review is positive (Rating of 4 or 5) or negative (rating of 1 or 2).</br>\n",
    "[Q] How to determine if a review is positive or negative? </br>\n",
    "[ANS] We could use the scoring/Rating. A rating of 4 or 5 could be considered a positive review. A review of 1 or 2 could be considered negative. A review of 3 is neutral and ignored. This is an approximate and proxy way of determining the polarity(positivity/negativity) of a review"
   ]
  },
  {
   "cell_type": "code",
   "execution_count": 5,
   "id": "0e371823",
   "metadata": {
    "execution": {
     "iopub.execute_input": "2023-08-02T04:56:08.159060Z",
     "iopub.status.busy": "2023-08-02T04:56:08.158577Z",
     "iopub.status.idle": "2023-08-02T04:56:10.899548Z",
     "shell.execute_reply": "2023-08-02T04:56:10.898104Z"
    },
    "papermill": {
     "duration": 2.755261,
     "end_time": "2023-08-02T04:56:10.903029",
     "exception": false,
     "start_time": "2023-08-02T04:56:08.147768",
     "status": "completed"
    },
    "tags": []
   },
   "outputs": [
    {
     "name": "stderr",
     "output_type": "stream",
     "text": [
      "/opt/conda/lib/python3.10/site-packages/scipy/__init__.py:146: UserWarning: A NumPy version >=1.16.5 and <1.23.0 is required for this version of SciPy (detected version 1.23.5\n",
      "  warnings.warn(f\"A NumPy version >={np_minversion} and <{np_maxversion}\"\n"
     ]
    }
   ],
   "source": [
    "import sqlite3\n",
    "import nltk\n",
    "import string\n",
    "import matplotlib.pyplot as plt\n",
    "import seaborn as sns\n",
    "from sklearn.feature_extraction.text import TfidfTransformer\n",
    "from sklearn.feature_extraction.text import TfidfVectorizer\n",
    "\n",
    "from sklearn.feature_extraction.text import CountVectorizer\n",
    "from sklearn.metrics import confusion_matrix\n",
    "from sklearn import metrics\n",
    "from sklearn.metrics import roc_curve, auc\n",
    "from nltk.stem.porter import PorterStemmer\n"
   ]
  },
  {
   "cell_type": "code",
   "execution_count": 6,
   "id": "d1a22cb3",
   "metadata": {
    "execution": {
     "iopub.execute_input": "2023-08-02T04:56:10.923885Z",
     "iopub.status.busy": "2023-08-02T04:56:10.923429Z",
     "iopub.status.idle": "2023-08-02T04:56:10.937299Z",
     "shell.execute_reply": "2023-08-02T04:56:10.936231Z"
    },
    "papermill": {
     "duration": 0.027885,
     "end_time": "2023-08-02T04:56:10.940287",
     "exception": false,
     "start_time": "2023-08-02T04:56:10.912402",
     "status": "completed"
    },
    "tags": []
   },
   "outputs": [],
   "source": [
    "con = sqlite3.connect('/kaggle/input/amazon-fine-food-reviews/database.sqlite')"
   ]
  },
  {
   "cell_type": "code",
   "execution_count": 7,
   "id": "8576bc96",
   "metadata": {
    "execution": {
     "iopub.execute_input": "2023-08-02T04:56:10.962988Z",
     "iopub.status.busy": "2023-08-02T04:56:10.961611Z",
     "iopub.status.idle": "2023-08-02T04:56:20.961578Z",
     "shell.execute_reply": "2023-08-02T04:56:20.959944Z"
    },
    "papermill": {
     "duration": 10.01546,
     "end_time": "2023-08-02T04:56:20.964810",
     "exception": false,
     "start_time": "2023-08-02T04:56:10.949350",
     "status": "completed"
    },
    "tags": []
   },
   "outputs": [],
   "source": [
    "filtered_data = pd.read_sql_query(\"\"\"\n",
    "SELECT * \n",
    "FROM Reviews\n",
    "WHERE Score != 3\"\"\",con)"
   ]
  },
  {
   "cell_type": "code",
   "execution_count": 8,
   "id": "b2bf7574",
   "metadata": {
    "execution": {
     "iopub.execute_input": "2023-08-02T04:56:20.985549Z",
     "iopub.status.busy": "2023-08-02T04:56:20.985107Z",
     "iopub.status.idle": "2023-08-02T04:56:21.167758Z",
     "shell.execute_reply": "2023-08-02T04:56:21.166137Z"
    },
    "papermill": {
     "duration": 0.196998,
     "end_time": "2023-08-02T04:56:21.171076",
     "exception": false,
     "start_time": "2023-08-02T04:56:20.974078",
     "status": "completed"
    },
    "tags": []
   },
   "outputs": [],
   "source": [
    "#Given reviews with score > 3 a positive rating, and reviews with a score < 3 a negative rating\n",
    "def partition(x):\n",
    "    if x < 3:\n",
    "        return 'negative'\n",
    "    return 'positive'\n",
    "\n",
    "#changing reviews with score less than 3 to be positive and vie-versa\n",
    "actualScore = filtered_data['Score']\n",
    "positiveNegative = actualScore.map(partition)\n",
    "filtered_data['Score'] = positiveNegative"
   ]
  },
  {
   "cell_type": "code",
   "execution_count": 9,
   "id": "a34bf280",
   "metadata": {
    "execution": {
     "iopub.execute_input": "2023-08-02T04:56:21.192509Z",
     "iopub.status.busy": "2023-08-02T04:56:21.192052Z",
     "iopub.status.idle": "2023-08-02T04:56:21.200180Z",
     "shell.execute_reply": "2023-08-02T04:56:21.198859Z"
    },
    "papermill": {
     "duration": 0.022306,
     "end_time": "2023-08-02T04:56:21.203060",
     "exception": false,
     "start_time": "2023-08-02T04:56:21.180754",
     "status": "completed"
    },
    "tags": []
   },
   "outputs": [
    {
     "data": {
      "text/plain": [
       "(525814, 10)"
      ]
     },
     "execution_count": 9,
     "metadata": {},
     "output_type": "execute_result"
    }
   ],
   "source": [
    "filtered_data.shape"
   ]
  },
  {
   "cell_type": "code",
   "execution_count": 10,
   "id": "755d8584",
   "metadata": {
    "execution": {
     "iopub.execute_input": "2023-08-02T04:56:21.225009Z",
     "iopub.status.busy": "2023-08-02T04:56:21.224529Z",
     "iopub.status.idle": "2023-08-02T04:56:21.242075Z",
     "shell.execute_reply": "2023-08-02T04:56:21.240644Z"
    },
    "papermill": {
     "duration": 0.031909,
     "end_time": "2023-08-02T04:56:21.245242",
     "exception": false,
     "start_time": "2023-08-02T04:56:21.213333",
     "status": "completed"
    },
    "tags": []
   },
   "outputs": [
    {
     "data": {
      "text/html": [
       "<div>\n",
       "<style scoped>\n",
       "    .dataframe tbody tr th:only-of-type {\n",
       "        vertical-align: middle;\n",
       "    }\n",
       "\n",
       "    .dataframe tbody tr th {\n",
       "        vertical-align: top;\n",
       "    }\n",
       "\n",
       "    .dataframe thead th {\n",
       "        text-align: right;\n",
       "    }\n",
       "</style>\n",
       "<table border=\"1\" class=\"dataframe\">\n",
       "  <thead>\n",
       "    <tr style=\"text-align: right;\">\n",
       "      <th></th>\n",
       "      <th>Id</th>\n",
       "      <th>ProductId</th>\n",
       "      <th>UserId</th>\n",
       "      <th>ProfileName</th>\n",
       "      <th>HelpfulnessNumerator</th>\n",
       "      <th>HelpfulnessDenominator</th>\n",
       "      <th>Score</th>\n",
       "      <th>Time</th>\n",
       "      <th>Summary</th>\n",
       "      <th>Text</th>\n",
       "    </tr>\n",
       "  </thead>\n",
       "  <tbody>\n",
       "    <tr>\n",
       "      <th>0</th>\n",
       "      <td>1</td>\n",
       "      <td>B001E4KFG0</td>\n",
       "      <td>A3SGXH7AUHU8GW</td>\n",
       "      <td>delmartian</td>\n",
       "      <td>1</td>\n",
       "      <td>1</td>\n",
       "      <td>positive</td>\n",
       "      <td>1303862400</td>\n",
       "      <td>Good Quality Dog Food</td>\n",
       "      <td>I have bought several of the Vitality canned d...</td>\n",
       "    </tr>\n",
       "    <tr>\n",
       "      <th>1</th>\n",
       "      <td>2</td>\n",
       "      <td>B00813GRG4</td>\n",
       "      <td>A1D87F6ZCVE5NK</td>\n",
       "      <td>dll pa</td>\n",
       "      <td>0</td>\n",
       "      <td>0</td>\n",
       "      <td>negative</td>\n",
       "      <td>1346976000</td>\n",
       "      <td>Not as Advertised</td>\n",
       "      <td>Product arrived labeled as Jumbo Salted Peanut...</td>\n",
       "    </tr>\n",
       "    <tr>\n",
       "      <th>2</th>\n",
       "      <td>3</td>\n",
       "      <td>B000LQOCH0</td>\n",
       "      <td>ABXLMWJIXXAIN</td>\n",
       "      <td>Natalia Corres \"Natalia Corres\"</td>\n",
       "      <td>1</td>\n",
       "      <td>1</td>\n",
       "      <td>positive</td>\n",
       "      <td>1219017600</td>\n",
       "      <td>\"Delight\" says it all</td>\n",
       "      <td>This is a confection that has been around a fe...</td>\n",
       "    </tr>\n",
       "    <tr>\n",
       "      <th>3</th>\n",
       "      <td>4</td>\n",
       "      <td>B000UA0QIQ</td>\n",
       "      <td>A395BORC6FGVXV</td>\n",
       "      <td>Karl</td>\n",
       "      <td>3</td>\n",
       "      <td>3</td>\n",
       "      <td>negative</td>\n",
       "      <td>1307923200</td>\n",
       "      <td>Cough Medicine</td>\n",
       "      <td>If you are looking for the secret ingredient i...</td>\n",
       "    </tr>\n",
       "    <tr>\n",
       "      <th>4</th>\n",
       "      <td>5</td>\n",
       "      <td>B006K2ZZ7K</td>\n",
       "      <td>A1UQRSCLF8GW1T</td>\n",
       "      <td>Michael D. Bigham \"M. Wassir\"</td>\n",
       "      <td>0</td>\n",
       "      <td>0</td>\n",
       "      <td>positive</td>\n",
       "      <td>1350777600</td>\n",
       "      <td>Great taffy</td>\n",
       "      <td>Great taffy at a great price.  There was a wid...</td>\n",
       "    </tr>\n",
       "  </tbody>\n",
       "</table>\n",
       "</div>"
      ],
      "text/plain": [
       "   Id   ProductId          UserId                      ProfileName  \\\n",
       "0   1  B001E4KFG0  A3SGXH7AUHU8GW                       delmartian   \n",
       "1   2  B00813GRG4  A1D87F6ZCVE5NK                           dll pa   \n",
       "2   3  B000LQOCH0   ABXLMWJIXXAIN  Natalia Corres \"Natalia Corres\"   \n",
       "3   4  B000UA0QIQ  A395BORC6FGVXV                             Karl   \n",
       "4   5  B006K2ZZ7K  A1UQRSCLF8GW1T    Michael D. Bigham \"M. Wassir\"   \n",
       "\n",
       "   HelpfulnessNumerator  HelpfulnessDenominator     Score        Time  \\\n",
       "0                     1                       1  positive  1303862400   \n",
       "1                     0                       0  negative  1346976000   \n",
       "2                     1                       1  positive  1219017600   \n",
       "3                     3                       3  negative  1307923200   \n",
       "4                     0                       0  positive  1350777600   \n",
       "\n",
       "                 Summary                                               Text  \n",
       "0  Good Quality Dog Food  I have bought several of the Vitality canned d...  \n",
       "1      Not as Advertised  Product arrived labeled as Jumbo Salted Peanut...  \n",
       "2  \"Delight\" says it all  This is a confection that has been around a fe...  \n",
       "3         Cough Medicine  If you are looking for the secret ingredient i...  \n",
       "4            Great taffy  Great taffy at a great price.  There was a wid...  "
      ]
     },
     "execution_count": 10,
     "metadata": {},
     "output_type": "execute_result"
    }
   ],
   "source": [
    "filtered_data.head()"
   ]
  },
  {
   "cell_type": "markdown",
   "id": "5aa4671c",
   "metadata": {
    "papermill": {
     "duration": 0.009804,
     "end_time": "2023-08-02T04:56:21.265046",
     "exception": false,
     "start_time": "2023-08-02T04:56:21.255242",
     "status": "completed"
    },
    "tags": []
   },
   "source": [
    "#### Data Cleaning"
   ]
  },
  {
   "cell_type": "code",
   "execution_count": 11,
   "id": "6e713e8a",
   "metadata": {
    "execution": {
     "iopub.execute_input": "2023-08-02T04:56:21.286791Z",
     "iopub.status.busy": "2023-08-02T04:56:21.286351Z",
     "iopub.status.idle": "2023-08-02T04:56:21.794742Z",
     "shell.execute_reply": "2023-08-02T04:56:21.793432Z"
    },
    "papermill": {
     "duration": 0.522637,
     "end_time": "2023-08-02T04:56:21.797874",
     "exception": false,
     "start_time": "2023-08-02T04:56:21.275237",
     "status": "completed"
    },
    "tags": []
   },
   "outputs": [
    {
     "data": {
      "text/plain": [
       "A3OXHLG6DIBRW8    425\n",
       "A1YUL9PCJR3JTY    391\n",
       "AY12DBB0U420B     365\n",
       "A281NPSIMI1C2R    346\n",
       "A1Z54EM24Y40LL    230\n",
       "                 ... \n",
       "A3RFVC58CGU53K      1\n",
       "A12ZBQLCVQWX9V      1\n",
       "A2AZCYNNN791CY      1\n",
       "A2OPVK1YS73N3B      1\n",
       "A3LGQPJCZVL9UC      1\n",
       "Name: UserId, Length: 243414, dtype: int64"
      ]
     },
     "execution_count": 11,
     "metadata": {},
     "output_type": "execute_result"
    }
   ],
   "source": [
    "filtered_data['UserId'].value_counts().sort_values(ascending = False)"
   ]
  },
  {
   "cell_type": "markdown",
   "id": "fd16e112",
   "metadata": {
    "papermill": {
     "duration": 0.009719,
     "end_time": "2023-08-02T04:56:21.818642",
     "exception": false,
     "start_time": "2023-08-02T04:56:21.808923",
     "status": "completed"
    },
    "tags": []
   },
   "source": [
    "Deduplication </br>\n",
    "it is observed (as shown in the table below) that reviews data had many duplicate entries. Hence it was necessary to remove duplicates in order to get unbiased results for the analysis of the data. Following is an example."
   ]
  },
  {
   "cell_type": "code",
   "execution_count": 12,
   "id": "cbe9a0a5",
   "metadata": {
    "execution": {
     "iopub.execute_input": "2023-08-02T04:56:21.840733Z",
     "iopub.status.busy": "2023-08-02T04:56:21.840288Z",
     "iopub.status.idle": "2023-08-02T04:56:28.732633Z",
     "shell.execute_reply": "2023-08-02T04:56:28.731663Z"
    },
    "papermill": {
     "duration": 6.906634,
     "end_time": "2023-08-02T04:56:28.735439",
     "exception": false,
     "start_time": "2023-08-02T04:56:21.828805",
     "status": "completed"
    },
    "tags": []
   },
   "outputs": [
    {
     "data": {
      "text/html": [
       "<div>\n",
       "<style scoped>\n",
       "    .dataframe tbody tr th:only-of-type {\n",
       "        vertical-align: middle;\n",
       "    }\n",
       "\n",
       "    .dataframe tbody tr th {\n",
       "        vertical-align: top;\n",
       "    }\n",
       "\n",
       "    .dataframe thead th {\n",
       "        text-align: right;\n",
       "    }\n",
       "</style>\n",
       "<table border=\"1\" class=\"dataframe\">\n",
       "  <thead>\n",
       "    <tr style=\"text-align: right;\">\n",
       "      <th></th>\n",
       "      <th>Id</th>\n",
       "      <th>ProductId</th>\n",
       "      <th>UserId</th>\n",
       "      <th>ProfileName</th>\n",
       "      <th>HelpfulnessNumerator</th>\n",
       "      <th>HelpfulnessDenominator</th>\n",
       "      <th>Score</th>\n",
       "      <th>Time</th>\n",
       "      <th>Summary</th>\n",
       "      <th>Text</th>\n",
       "    </tr>\n",
       "  </thead>\n",
       "  <tbody>\n",
       "    <tr>\n",
       "      <th>0</th>\n",
       "      <td>78445</td>\n",
       "      <td>B000HDL1RQ</td>\n",
       "      <td>AR5J8UI46CURR</td>\n",
       "      <td>Geetha Krishnan</td>\n",
       "      <td>2</td>\n",
       "      <td>2</td>\n",
       "      <td>5</td>\n",
       "      <td>1199577600</td>\n",
       "      <td>LOACKER QUADRATINI VANILLA WAFERS</td>\n",
       "      <td>DELICIOUS WAFERS. I FIND THAT EUROPEAN WAFERS ...</td>\n",
       "    </tr>\n",
       "    <tr>\n",
       "      <th>1</th>\n",
       "      <td>138317</td>\n",
       "      <td>B000HDOPYC</td>\n",
       "      <td>AR5J8UI46CURR</td>\n",
       "      <td>Geetha Krishnan</td>\n",
       "      <td>2</td>\n",
       "      <td>2</td>\n",
       "      <td>5</td>\n",
       "      <td>1199577600</td>\n",
       "      <td>LOACKER QUADRATINI VANILLA WAFERS</td>\n",
       "      <td>DELICIOUS WAFERS. I FIND THAT EUROPEAN WAFERS ...</td>\n",
       "    </tr>\n",
       "    <tr>\n",
       "      <th>2</th>\n",
       "      <td>138277</td>\n",
       "      <td>B000HDOPYM</td>\n",
       "      <td>AR5J8UI46CURR</td>\n",
       "      <td>Geetha Krishnan</td>\n",
       "      <td>2</td>\n",
       "      <td>2</td>\n",
       "      <td>5</td>\n",
       "      <td>1199577600</td>\n",
       "      <td>LOACKER QUADRATINI VANILLA WAFERS</td>\n",
       "      <td>DELICIOUS WAFERS. I FIND THAT EUROPEAN WAFERS ...</td>\n",
       "    </tr>\n",
       "    <tr>\n",
       "      <th>3</th>\n",
       "      <td>73791</td>\n",
       "      <td>B000HDOPZG</td>\n",
       "      <td>AR5J8UI46CURR</td>\n",
       "      <td>Geetha Krishnan</td>\n",
       "      <td>2</td>\n",
       "      <td>2</td>\n",
       "      <td>5</td>\n",
       "      <td>1199577600</td>\n",
       "      <td>LOACKER QUADRATINI VANILLA WAFERS</td>\n",
       "      <td>DELICIOUS WAFERS. I FIND THAT EUROPEAN WAFERS ...</td>\n",
       "    </tr>\n",
       "    <tr>\n",
       "      <th>4</th>\n",
       "      <td>155049</td>\n",
       "      <td>B000PAQ75C</td>\n",
       "      <td>AR5J8UI46CURR</td>\n",
       "      <td>Geetha Krishnan</td>\n",
       "      <td>2</td>\n",
       "      <td>2</td>\n",
       "      <td>5</td>\n",
       "      <td>1199577600</td>\n",
       "      <td>LOACKER QUADRATINI VANILLA WAFERS</td>\n",
       "      <td>DELICIOUS WAFERS. I FIND THAT EUROPEAN WAFERS ...</td>\n",
       "    </tr>\n",
       "  </tbody>\n",
       "</table>\n",
       "</div>"
      ],
      "text/plain": [
       "       Id   ProductId         UserId      ProfileName  HelpfulnessNumerator  \\\n",
       "0   78445  B000HDL1RQ  AR5J8UI46CURR  Geetha Krishnan                     2   \n",
       "1  138317  B000HDOPYC  AR5J8UI46CURR  Geetha Krishnan                     2   \n",
       "2  138277  B000HDOPYM  AR5J8UI46CURR  Geetha Krishnan                     2   \n",
       "3   73791  B000HDOPZG  AR5J8UI46CURR  Geetha Krishnan                     2   \n",
       "4  155049  B000PAQ75C  AR5J8UI46CURR  Geetha Krishnan                     2   \n",
       "\n",
       "   HelpfulnessDenominator  Score        Time  \\\n",
       "0                       2      5  1199577600   \n",
       "1                       2      5  1199577600   \n",
       "2                       2      5  1199577600   \n",
       "3                       2      5  1199577600   \n",
       "4                       2      5  1199577600   \n",
       "\n",
       "                             Summary  \\\n",
       "0  LOACKER QUADRATINI VANILLA WAFERS   \n",
       "1  LOACKER QUADRATINI VANILLA WAFERS   \n",
       "2  LOACKER QUADRATINI VANILLA WAFERS   \n",
       "3  LOACKER QUADRATINI VANILLA WAFERS   \n",
       "4  LOACKER QUADRATINI VANILLA WAFERS   \n",
       "\n",
       "                                                Text  \n",
       "0  DELICIOUS WAFERS. I FIND THAT EUROPEAN WAFERS ...  \n",
       "1  DELICIOUS WAFERS. I FIND THAT EUROPEAN WAFERS ...  \n",
       "2  DELICIOUS WAFERS. I FIND THAT EUROPEAN WAFERS ...  \n",
       "3  DELICIOUS WAFERS. I FIND THAT EUROPEAN WAFERS ...  \n",
       "4  DELICIOUS WAFERS. I FIND THAT EUROPEAN WAFERS ...  "
      ]
     },
     "execution_count": 12,
     "metadata": {},
     "output_type": "execute_result"
    }
   ],
   "source": [
    "display = pd.read_sql_query(\"\"\"\n",
    "SELECT * \n",
    "FROM Reviews\n",
    "WHERE Score !=3 AND UserId = \"AR5J8UI46CURR\"\n",
    "ORDER BY ProductID\"\"\", con)\n",
    "display"
   ]
  },
  {
   "cell_type": "code",
   "execution_count": 13,
   "id": "574d9b73",
   "metadata": {
    "execution": {
     "iopub.execute_input": "2023-08-02T04:56:28.757911Z",
     "iopub.status.busy": "2023-08-02T04:56:28.757379Z",
     "iopub.status.idle": "2023-08-02T04:56:30.083095Z",
     "shell.execute_reply": "2023-08-02T04:56:30.081645Z"
    },
    "papermill": {
     "duration": 1.340345,
     "end_time": "2023-08-02T04:56:30.086082",
     "exception": false,
     "start_time": "2023-08-02T04:56:28.745737",
     "status": "completed"
    },
    "tags": []
   },
   "outputs": [],
   "source": [
    "#sorting data according to product ID in ascending order\n",
    "sorted_data = filtered_data.sort_values('ProductId', axis = 0, ascending = True,inplace = False, na_position ='last',kind = 'quicksort' )"
   ]
  },
  {
   "cell_type": "code",
   "execution_count": 14,
   "id": "805827b9",
   "metadata": {
    "execution": {
     "iopub.execute_input": "2023-08-02T04:56:30.108630Z",
     "iopub.status.busy": "2023-08-02T04:56:30.108187Z",
     "iopub.status.idle": "2023-08-02T04:56:30.117369Z",
     "shell.execute_reply": "2023-08-02T04:56:30.115843Z"
    },
    "papermill": {
     "duration": 0.023741,
     "end_time": "2023-08-02T04:56:30.120152",
     "exception": false,
     "start_time": "2023-08-02T04:56:30.096411",
     "status": "completed"
    },
    "tags": []
   },
   "outputs": [
    {
     "data": {
      "text/plain": [
       "Index(['Id', 'ProductId', 'UserId', 'ProfileName', 'HelpfulnessNumerator',\n",
       "       'HelpfulnessDenominator', 'Score', 'Time', 'Summary', 'Text'],\n",
       "      dtype='object')"
      ]
     },
     "execution_count": 14,
     "metadata": {},
     "output_type": "execute_result"
    }
   ],
   "source": [
    "sorted_data.columns"
   ]
  },
  {
   "cell_type": "code",
   "execution_count": 15,
   "id": "0a7b5b48",
   "metadata": {
    "execution": {
     "iopub.execute_input": "2023-08-02T04:56:30.145226Z",
     "iopub.status.busy": "2023-08-02T04:56:30.144744Z",
     "iopub.status.idle": "2023-08-02T04:56:31.707686Z",
     "shell.execute_reply": "2023-08-02T04:56:31.705991Z"
    },
    "papermill": {
     "duration": 1.580088,
     "end_time": "2023-08-02T04:56:31.711051",
     "exception": false,
     "start_time": "2023-08-02T04:56:30.130963",
     "status": "completed"
    },
    "tags": []
   },
   "outputs": [
    {
     "data": {
      "text/plain": [
       "(364173, 10)"
      ]
     },
     "execution_count": 15,
     "metadata": {},
     "output_type": "execute_result"
    }
   ],
   "source": [
    "#deduplication of entries\n",
    "final = sorted_data.drop_duplicates(subset = {\"UserId\",\"ProfileName\",\"Time\",\"Text\"}, keep = 'first',inplace = False)\n",
    "final.shape"
   ]
  },
  {
   "cell_type": "code",
   "execution_count": 16,
   "id": "c2ccac38",
   "metadata": {
    "execution": {
     "iopub.execute_input": "2023-08-02T04:56:31.734655Z",
     "iopub.status.busy": "2023-08-02T04:56:31.734177Z",
     "iopub.status.idle": "2023-08-02T04:56:31.743907Z",
     "shell.execute_reply": "2023-08-02T04:56:31.742202Z"
    },
    "papermill": {
     "duration": 0.024798,
     "end_time": "2023-08-02T04:56:31.746634",
     "exception": false,
     "start_time": "2023-08-02T04:56:31.721836",
     "status": "completed"
    },
    "tags": []
   },
   "outputs": [
    {
     "data": {
      "text/plain": [
       "69.25890143662969"
      ]
     },
     "execution_count": 16,
     "metadata": {},
     "output_type": "execute_result"
    }
   ],
   "source": [
    "#checking to see how much % of data still remains\n",
    "(final['Id'].size*1.0) / (filtered_data['Id'].size*1.0)*100"
   ]
  },
  {
   "cell_type": "code",
   "execution_count": 17,
   "id": "10f22656",
   "metadata": {
    "execution": {
     "iopub.execute_input": "2023-08-02T04:56:31.770917Z",
     "iopub.status.busy": "2023-08-02T04:56:31.770427Z",
     "iopub.status.idle": "2023-08-02T04:56:31.779035Z",
     "shell.execute_reply": "2023-08-02T04:56:31.777473Z"
    },
    "papermill": {
     "duration": 0.024577,
     "end_time": "2023-08-02T04:56:31.782017",
     "exception": false,
     "start_time": "2023-08-02T04:56:31.757440",
     "status": "completed"
    },
    "tags": []
   },
   "outputs": [
    {
     "data": {
      "text/plain": [
       "364173"
      ]
     },
     "execution_count": 17,
     "metadata": {},
     "output_type": "execute_result"
    }
   ],
   "source": [
    "final['Id'].size"
   ]
  },
  {
   "cell_type": "markdown",
   "id": "85ddcca4",
   "metadata": {
    "papermill": {
     "duration": 0.010696,
     "end_time": "2023-08-02T04:56:31.804906",
     "exception": false,
     "start_time": "2023-08-02T04:56:31.794210",
     "status": "completed"
    },
    "tags": []
   },
   "source": [
    "<b>Observation:-</b> It was also seen that in two rows given below the value of HelpfulnessNumerator is greater than HelpfulnessDenominator which is not practically possible hence these two rows too are removed from calcualtions"
   ]
  },
  {
   "cell_type": "code",
   "execution_count": 18,
   "id": "ec352051",
   "metadata": {
    "execution": {
     "iopub.execute_input": "2023-08-02T04:56:31.829685Z",
     "iopub.status.busy": "2023-08-02T04:56:31.829248Z",
     "iopub.status.idle": "2023-08-02T04:56:31.907949Z",
     "shell.execute_reply": "2023-08-02T04:56:31.906453Z"
    },
    "papermill": {
     "duration": 0.09395,
     "end_time": "2023-08-02T04:56:31.910795",
     "exception": false,
     "start_time": "2023-08-02T04:56:31.816845",
     "status": "completed"
    },
    "tags": []
   },
   "outputs": [
    {
     "data": {
      "text/html": [
       "<div>\n",
       "<style scoped>\n",
       "    .dataframe tbody tr th:only-of-type {\n",
       "        vertical-align: middle;\n",
       "    }\n",
       "\n",
       "    .dataframe tbody tr th {\n",
       "        vertical-align: top;\n",
       "    }\n",
       "\n",
       "    .dataframe thead th {\n",
       "        text-align: right;\n",
       "    }\n",
       "</style>\n",
       "<table border=\"1\" class=\"dataframe\">\n",
       "  <thead>\n",
       "    <tr style=\"text-align: right;\">\n",
       "      <th></th>\n",
       "      <th>Id</th>\n",
       "      <th>ProductId</th>\n",
       "      <th>UserId</th>\n",
       "      <th>ProfileName</th>\n",
       "      <th>HelpfulnessNumerator</th>\n",
       "      <th>HelpfulnessDenominator</th>\n",
       "      <th>Score</th>\n",
       "      <th>Time</th>\n",
       "      <th>Summary</th>\n",
       "      <th>Text</th>\n",
       "    </tr>\n",
       "  </thead>\n",
       "  <tbody>\n",
       "    <tr>\n",
       "      <th>0</th>\n",
       "      <td>64422</td>\n",
       "      <td>B000MIDROQ</td>\n",
       "      <td>A161DK06JJMCYF</td>\n",
       "      <td>J. E. Stephens \"Jeanne\"</td>\n",
       "      <td>3</td>\n",
       "      <td>1</td>\n",
       "      <td>5</td>\n",
       "      <td>1224892800</td>\n",
       "      <td>Bought This for My Son at College</td>\n",
       "      <td>My son loves spaghetti so I didn't hesitate or...</td>\n",
       "    </tr>\n",
       "    <tr>\n",
       "      <th>1</th>\n",
       "      <td>44737</td>\n",
       "      <td>B001EQ55RW</td>\n",
       "      <td>A2V0I904FH7ABY</td>\n",
       "      <td>Ram</td>\n",
       "      <td>3</td>\n",
       "      <td>2</td>\n",
       "      <td>4</td>\n",
       "      <td>1212883200</td>\n",
       "      <td>Pure cocoa taste with crunchy almonds inside</td>\n",
       "      <td>It was almost a 'love at first bite' - the per...</td>\n",
       "    </tr>\n",
       "  </tbody>\n",
       "</table>\n",
       "</div>"
      ],
      "text/plain": [
       "      Id   ProductId          UserId              ProfileName  \\\n",
       "0  64422  B000MIDROQ  A161DK06JJMCYF  J. E. Stephens \"Jeanne\"   \n",
       "1  44737  B001EQ55RW  A2V0I904FH7ABY                      Ram   \n",
       "\n",
       "   HelpfulnessNumerator  HelpfulnessDenominator  Score        Time  \\\n",
       "0                     3                       1      5  1224892800   \n",
       "1                     3                       2      4  1212883200   \n",
       "\n",
       "                                        Summary  \\\n",
       "0             Bought This for My Son at College   \n",
       "1  Pure cocoa taste with crunchy almonds inside   \n",
       "\n",
       "                                                Text  \n",
       "0  My son loves spaghetti so I didn't hesitate or...  \n",
       "1  It was almost a 'love at first bite' - the per...  "
      ]
     },
     "execution_count": 18,
     "metadata": {},
     "output_type": "execute_result"
    }
   ],
   "source": [
    "display= pd.read_sql_query(\"\"\"\n",
    "SELECT *\n",
    "FROM Reviews\n",
    "WHERE Score != 3 AND Id=44737 OR Id=64422\n",
    "ORDER BY ProductID\n",
    "\"\"\", con)\n",
    "\n",
    "display.head()"
   ]
  },
  {
   "cell_type": "code",
   "execution_count": 19,
   "id": "6bd8bf83",
   "metadata": {
    "execution": {
     "iopub.execute_input": "2023-08-02T04:56:31.937106Z",
     "iopub.status.busy": "2023-08-02T04:56:31.935697Z",
     "iopub.status.idle": "2023-08-02T04:56:31.994199Z",
     "shell.execute_reply": "2023-08-02T04:56:31.992935Z"
    },
    "papermill": {
     "duration": 0.074241,
     "end_time": "2023-08-02T04:56:31.996945",
     "exception": false,
     "start_time": "2023-08-02T04:56:31.922704",
     "status": "completed"
    },
    "tags": []
   },
   "outputs": [
    {
     "name": "stdout",
     "output_type": "stream",
     "text": [
      "(364173, 10)\n"
     ]
    },
    {
     "data": {
      "text/plain": [
       "positive    307063\n",
       "negative     57110\n",
       "Name: Score, dtype: int64"
      ]
     },
     "execution_count": 19,
     "metadata": {},
     "output_type": "execute_result"
    }
   ],
   "source": [
    "print(final.shape)\n",
    "\n",
    "#How many positive and negative reviews are present in our dataset?\n",
    "final['Score'].value_counts()"
   ]
  },
  {
   "cell_type": "markdown",
   "id": "bd0d9fd7",
   "metadata": {
    "papermill": {
     "duration": 0.011369,
     "end_time": "2023-08-02T04:56:32.022373",
     "exception": false,
     "start_time": "2023-08-02T04:56:32.011004",
     "status": "completed"
    },
    "tags": []
   },
   "source": [
    "#### Bag of Words(BoW)\n",
    "1. Constructing a dictionary  - Set of all unique words in your reviews (If i have n documents(reviews) and d unique words , each words will be a different dimension) each vector will be a sparse(because most the elements will be zero )\n",
    "2. corpus - collection of documents"
   ]
  },
  {
   "cell_type": "code",
   "execution_count": null,
   "id": "fbdbc9df",
   "metadata": {
    "papermill": {
     "duration": 0.010978,
     "end_time": "2023-08-02T04:56:32.044946",
     "exception": false,
     "start_time": "2023-08-02T04:56:32.033968",
     "status": "completed"
    },
    "tags": []
   },
   "outputs": [],
   "source": []
  }
 ],
 "metadata": {
  "kernelspec": {
   "display_name": "Python 3",
   "language": "python",
   "name": "python3"
  },
  "language_info": {
   "codemirror_mode": {
    "name": "ipython",
    "version": 3
   },
   "file_extension": ".py",
   "mimetype": "text/x-python",
   "name": "python",
   "nbconvert_exporter": "python",
   "pygments_lexer": "ipython3",
   "version": "3.10.12"
  },
  "papermill": {
   "default_parameters": {},
   "duration": 47.871904,
   "end_time": "2023-08-02T04:56:33.585593",
   "environment_variables": {},
   "exception": null,
   "input_path": "__notebook__.ipynb",
   "output_path": "__notebook__.ipynb",
   "parameters": {},
   "start_time": "2023-08-02T04:55:45.713689",
   "version": "2.4.0"
  }
 },
 "nbformat": 4,
 "nbformat_minor": 5
}
